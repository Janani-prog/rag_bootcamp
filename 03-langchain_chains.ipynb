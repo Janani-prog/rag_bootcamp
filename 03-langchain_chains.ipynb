{
 "cells": [
  {
   "cell_type": "code",
   "execution_count": 1,
   "id": "34dda6dc",
   "metadata": {},
   "outputs": [],
   "source": [
    "from langchain_ollama import ChatOllama\n",
    "from langchain_core.prompts import (\n",
    "                                        SystemMessagePromptTemplate,\n",
    "                                        HumanMessagePromptTemplate,\n",
    "                                        ChatPromptTemplate\n",
    "                                        )\n",
    "\n",
    "base_url = \"http://localhost:11434\"\n",
    "model = 'qwen3:1.7b'\n",
    "\n",
    "llm = ChatOllama(base_url=base_url, model=model)"
   ]
  },
  {
   "cell_type": "code",
   "execution_count": 2,
   "id": "762cd337",
   "metadata": {},
   "outputs": [
    {
     "name": "stdout",
     "output_type": "stream",
     "text": [
      "<think>\n",
      "Okay, the user asked about the solar system in five points. Let me think. First, I need to make sure I cover the main aspects. The solar system consists of the Sun at the center, right? So point one could be the Sun as the central star. Then planets, but I should list them. Mercury, Venus, Earth, Mars, Jupiter, Saturn, Uranus, Neptune. Wait, Pluto is no longer considered a planet, so maybe mention that. Next, the asteroid belt between Mars and Jupiter, and the Kuiper Belt beyond Neptune. Also, the Oort Cloud. Oh, but the user wants five points, so I need to be concise. Maybe structure it as: 1. Sun at center, 2. Eight planets, 3. Asteroid belt, 4. Kuiper Belt, 5. Oort Cloud. That's five. Let me check if that's accurate. Yes, Pluto was demoted, but the user might not know that. Maybe mention it as a dwarf planet. But the user asked for five points, so maybe stick to the main components. Alright, that should work.\n",
      "</think>\n",
      "\n",
      "The solar system has the Sun at the center, eight planets (including Pluto as a dwarf planet), an asteroid belt between Mars and Jupiter, a Kuiper Belt beyond Neptune, and an Oort Cloud surrounding the solar system.\n"
     ]
    }
   ],
   "source": [
    "system = SystemMessagePromptTemplate.from_template('You are {school} teacher. You answer in short sentences.')\n",
    "\n",
    "question = HumanMessagePromptTemplate.from_template('tell me about the {topics} in {points} points')\n",
    "\n",
    "\n",
    "messages = [system, question]\n",
    "template = ChatPromptTemplate(messages)\n",
    "\n",
    "question = template.invoke({'school': 'primary', 'topics': 'solar system', 'points': 5})\n",
    "\n",
    "response = llm.invoke(question)\n",
    "print(response.content)    "
   ]
  },
  {
   "cell_type": "code",
   "execution_count": null,
   "id": "4f4d2211",
   "metadata": {},
   "outputs": [],
   "source": [
    "system = SystemMessagePromptTemplate.from_template('You are {school} teacher. You answer in short sentences.')\n",
    "\n",
    "question = HumanMessagePromptTemplate.from_template('tell me about the {topics} in {points} points')\n",
    "\n",
    "\n",
    "messages = [system, question]\n",
    "template = ChatPromptTemplate(messages)\n",
    "\n",
    "chain = template | llm\n",
    "#chaint = <first_step> | <second_step> |  <third_step> | ...."
   ]
  },
  {
   "cell_type": "code",
   "execution_count": 4,
   "id": "a32b49ae",
   "metadata": {},
   "outputs": [
    {
     "name": "stdout",
     "output_type": "stream",
     "text": [
      "<think>\n",
      "Okay, the user asked about the solar system in five points. Let me think. First, I need to recall the main components of the solar system. The sun is the center, so that's one point. Then the planets orbit around it. Wait, how many planets are there? Pluto was demoted, so maybe mention eight planets. Next, the asteroid belt is between Mars and Jupiter. Then the Kuiper Belt and Oort Cloud as outer regions. Also, the solar system includes the sun, planets, moons, asteroids, comets, and other objects. But the user wants five points. Let me prioritize the most important ones. Start with the sun, then planets, asteroid belt, Kuiper Belt, and Oort Cloud. That's five. Make sure each point is concise. Avoid technical jargon but keep it accurate. Check if the order makes sense. Yes, from the center to the outer edges. Alright, that should work.\n",
      "</think>\n",
      "\n",
      "The solar system consists of the Sun at its center, eight planets orbiting it (excluding Pluto), asteroid belt between Mars and Jupiter, Kuiper Belt beyond Neptune, and Oort Cloud as a distant spherical cloud.\n"
     ]
    }
   ],
   "source": [
    "response = chain.invoke({'school': 'primary', 'topics': 'solar system', 'points': 5})\n",
    "print(response.content)"
   ]
  },
  {
   "cell_type": "code",
   "execution_count": 5,
   "id": "a6d74112",
   "metadata": {},
   "outputs": [
    {
     "name": "stdout",
     "output_type": "stream",
     "text": [
      "<think>\n",
      "Okay, the user asked about the solar system in five points. Let me recall the main components. First, the Sun is at the center. Then the八大行星, but wait, there are eight planets, but Pluto is no longer considered a planet. So maybe mention that. Next, the asteroid belt, the Kuiper Belt, and the Oort Cloud are the regions beyond Neptune. Also, the dwarf planets like Ceres, Eris, and Makemake. Oh, and the solar system's scale, like the distance from the Sun to the outer edges. Need to keep it concise. Make sure each point is clear and not too technical. Check for accuracy, like Pluto's status. Alright, structure the answer with five points, each a short sentence.\n",
      "</think>\n",
      "\n",
      "The solar system consists of the Sun at its center, eight planets (with Pluto no longer classified as a planet), asteroid belt, Kuiper Belt, and Oort Cloud. It contains planets like Mercury, Venus, Earth, Mars, Jupiter, Saturn, Uranus, and Neptune. The Sun's gravity keeps planets in orbit, and the system spans millions of kilometers.\n"
     ]
    }
   ],
   "source": [
    "from langchain_core.output_parsers import StrOutputParser\n",
    "chain2 = template | llm | StrOutputParser()\n",
    "response = chain2.invoke({'school': 'primary', 'topics': 'solar system', 'points': 5})\n",
    "print(response)"
   ]
  },
  {
   "cell_type": "code",
   "execution_count": null,
   "id": "7ff2077e",
   "metadata": {},
   "outputs": [],
   "source": []
  },
  {
   "cell_type": "code",
   "execution_count": null,
   "id": "9f666d75",
   "metadata": {},
   "outputs": [],
   "source": []
  },
  {
   "cell_type": "code",
   "execution_count": null,
   "id": "1c67f1a5",
   "metadata": {},
   "outputs": [],
   "source": []
  },
  {
   "cell_type": "code",
   "execution_count": null,
   "id": "5cb9ed9f",
   "metadata": {},
   "outputs": [],
   "source": []
  },
  {
   "cell_type": "code",
   "execution_count": null,
   "id": "dc10de54",
   "metadata": {},
   "outputs": [],
   "source": []
  },
  {
   "cell_type": "code",
   "execution_count": null,
   "id": "afd7a08e",
   "metadata": {},
   "outputs": [],
   "source": []
  }
 ],
 "metadata": {
  "kernelspec": {
   "display_name": ".venv",
   "language": "python",
   "name": "python3"
  },
  "language_info": {
   "codemirror_mode": {
    "name": "ipython",
    "version": 3
   },
   "file_extension": ".py",
   "mimetype": "text/x-python",
   "name": "python",
   "nbconvert_exporter": "python",
   "pygments_lexer": "ipython3",
   "version": "3.13.2"
  }
 },
 "nbformat": 4,
 "nbformat_minor": 5
}
