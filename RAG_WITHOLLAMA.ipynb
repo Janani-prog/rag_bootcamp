{
 "cells": [
  {
   "cell_type": "code",
   "execution_count": 2,
   "id": "7c41ddea",
   "metadata": {},
   "outputs": [],
   "source": [
    "from langchain_ollama import ChatOllama \n",
    "from langchain_core.output_parsers import StrOutputParser\n",
    "from langchain_core.runnables import RunnablePassthrough \n",
    "from langchain_core.prompts import ChatPromptTemplate\n",
    "\n",
    "from langchain import hub"
   ]
  },
  {
   "cell_type": "code",
   "execution_count": 3,
   "id": "eca390bc",
   "metadata": {},
   "outputs": [],
   "source": [
    "#Create a prompt template\n",
    "prompt = \"\"\"\n",
    "    You are an assistant for question-answering tasks. Use the following pieces of retrieved context to answer the question.\n",
    "    If you don't know the answer, just say that you don't know.\n",
    "    Answer in bullet points. Make sure your answer is relevant to the question and it is answered from the context only.\n",
    "    Question: {question} \n",
    "    Context: {context} \n",
    "    Answer:\n",
    "\"\"\"\n",
    "\n",
    "prompt = ChatPromptTemplate.from_template(prompt)"
   ]
  },
  {
   "cell_type": "code",
   "execution_count": 4,
   "id": "b78f503a",
   "metadata": {},
   "outputs": [
    {
     "data": {
      "text/plain": [
       "AIMessage(content='<think>\\nOkay, the user just said \"hi\". Let me think about how to respond.\\n\\nFirst, I need to make sure I understand the context. They might be testing if I\\'m responsive or just saying hello. Since they didn\\'t provide any specific query, I should keep the response friendly and open-ended.\\n\\nI should acknowledge their greeting and offer assistance. Maybe mention that I\\'m here to help with any questions they have. Also, add a friendly emoji to keep the tone light. Let me check if there\\'s anything else I need to add. No, that should cover it. Alright, time to send the response.\\n</think>\\n\\nHello! How can I assist you today? 😊 I\\'m here to help with any questions or tasks you have! Let me know how I can support you.', additional_kwargs={}, response_metadata={'model': 'qwen3:1.7b', 'created_at': '2025-05-27T14:26:42.4313151Z', 'done': True, 'done_reason': 'stop', 'total_duration': 4629016800, 'load_duration': 2787796400, 'prompt_eval_count': 9, 'prompt_eval_duration': 445517900, 'eval_count': 162, 'eval_duration': 1381389800, 'model_name': 'qwen3:1.7b'}, id='run--71d82676-96e3-47a4-9286-a1df69ccad2f-0', usage_metadata={'input_tokens': 9, 'output_tokens': 162, 'total_tokens': 171})"
      ]
     },
     "execution_count": 4,
     "metadata": {},
     "output_type": "execute_result"
    }
   ],
   "source": [
    "#DEFINE OUR LLM\n",
    "llm = ChatOllama(model='qwen3:1.7b', base_url='http://localhost:11434')\n",
    "llm.invoke('hi')"
   ]
  },
  {
   "cell_type": "code",
   "execution_count": null,
   "id": "519fe118",
   "metadata": {},
   "outputs": [],
   "source": [
    "rag_chain = (\n",
    "    {\"context\": retriever|format_docs, \"question\": RunnablePassthrough()}\n",
    "    | prompt\n",
    "    | llm\n",
    "    | StrOutputParser()\n",
    ")"
   ]
  },
  {
   "cell_type": "code",
   "execution_count": null,
   "id": "e81bb842",
   "metadata": {},
   "outputs": [],
   "source": []
  },
  {
   "cell_type": "code",
   "execution_count": null,
   "id": "6f7347f9",
   "metadata": {},
   "outputs": [],
   "source": []
  },
  {
   "cell_type": "code",
   "execution_count": null,
   "id": "c0768a4d",
   "metadata": {},
   "outputs": [],
   "source": []
  },
  {
   "cell_type": "code",
   "execution_count": null,
   "id": "d3ca0c5c",
   "metadata": {},
   "outputs": [],
   "source": []
  }
 ],
 "metadata": {
  "kernelspec": {
   "display_name": ".venv",
   "language": "python",
   "name": "python3"
  },
  "language_info": {
   "codemirror_mode": {
    "name": "ipython",
    "version": 3
   },
   "file_extension": ".py",
   "mimetype": "text/x-python",
   "name": "python",
   "nbconvert_exporter": "python",
   "pygments_lexer": "ipython3",
   "version": "3.13.2"
  }
 },
 "nbformat": 4,
 "nbformat_minor": 5
}
