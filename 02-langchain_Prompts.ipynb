{
 "cells": [
  {
   "cell_type": "code",
   "execution_count": 1,
   "id": "b2fcfd07",
   "metadata": {},
   "outputs": [],
   "source": [
    "from langchain_ollama import ChatOllama\n",
    "\n",
    "base_url = \"http://localhost:11434\"\n",
    "model = 'llama3.1:8b'\n",
    "\n",
    "llm = ChatOllama(base_url=base_url, model=model)"
   ]
  },
  {
   "cell_type": "code",
   "execution_count": 2,
   "id": "aec8af30",
   "metadata": {},
   "outputs": [
    {
     "name": "stdout",
     "output_type": "stream",
     "text": [
      "Question: tell me 3 interesting facts about the moon\n",
      "Response: A great request! Here are three interesting facts about the Moon:\n",
      "\n",
      "1. **The Moon is Moving Away from Us**: The Moon is slowly moving away from Earth at a rate of about 3.8 centimeters (1.5 inches) per year. This means that the lunar cycle, which used to be around 24 hours, was shorter in the distant past. In fact, it's estimated that 620 million years ago, the Moon was only 35,000 kilometers (22,000 miles) away from Earth.\n",
      "2. **The Moon Has a Dark Side... Literally**: While it's common to think of the \"dark side\" of the Moon as being opposite the Earth, it actually refers to the fact that the near side has more sunlit areas than the far side. The far side, also known as the \"hidden side,\" was unknown to humans until the Soviet Union's Luna 3 spacecraft imaged it in 1959. It's not entirely dark, though - the far side receives some indirect sunlight due to Earth's gravitational influence.\n",
      "3. **The Moon Has Water Ice**: In 2009, NASA's Lunar CRater Observation and Sensing Satellite (LCROSS) mission detected water ice in the form of vapor and solid particles on the Moon's surface. The ice is believed to be trapped in permanently shadowed craters near the lunar poles, where temperatures can drop as low as -233°C (-391°F). This discovery has significant implications for future lunar missions and potential human settlements.\n",
      "\n",
      "I hope you found these facts interesting!\n"
     ]
    }
   ],
   "source": [
    "question = \"tell me 3 interesting facts about the moon\"\n",
    "response = llm.invoke(question)\n",
    "print(f\"Question: {question}\")\n",
    "print(f\"Response: {response.content}\")"
   ]
  },
  {
   "cell_type": "code",
   "execution_count": 3,
   "id": "2beae2a5",
   "metadata": {},
   "outputs": [
    {
     "name": "stdout",
     "output_type": "stream",
     "text": [
      "Question: tell me 3 interesting facts about the moon\n",
      "Response: The moon is so cool! Let's talk about it!\n",
      "\n",
      "Here are three interesting facts about the moon:\n",
      "\n",
      "1. **The Moon is Moving Away from Us!** Did you know that the moon is slowly moving away from Earth? It's true! Because of gravity, the moon is being pulled away from us at a rate of about 3.8 centimeters (or about 1.5 inches) every year!\n",
      "2. **The Moon Has No Atmosphere!** Can you believe it? The moon has no air around it, which means there's no wind, no weather, and no sound on the moon! It's like a giant rock floating in space.\n",
      "3. **The Moon is Not Round... Exactly!** While we often think of the moon as being perfectly round, it's actually slightly flattened at the poles and bulging at the equator. This is because the moon spins very slowly – only once every 27 days!\n",
      "\n",
      "I hope these facts make you go \"Wow!\" about our amazing moon!\n"
     ]
    }
   ],
   "source": [
    "from langchain_core.messages import SystemMessage, HumanMessage\n",
    "\n",
    "question = HumanMessage(\"tell me 3 interesting facts about the moon\")\n",
    "system = SystemMessage(\"You are a 5th grade science teacher. Answer the question in a way that a 5th grader can understand.\")\n",
    "\n",
    "messages = [system, question]\n",
    "\n",
    "response = llm.invoke(messages)\n",
    "print(f\"Question: {question.content}\")\n",
    "print(f\"Response: {response.content}\")\n"
   ]
  },
  {
   "cell_type": "code",
   "execution_count": 4,
   "id": "9846bc72",
   "metadata": {},
   "outputs": [
    {
     "name": "stdout",
     "output_type": "stream",
     "text": [
      "Question: tell me 3 interesting facts about the moon\n",
      "Response: My fellow space enthusiasts! I'm excited to share three fascinating facts about our beloved Moon.\n",
      "\n",
      "1. **The Moon is not round, it's an ellipsoid**: If you were to walk on the Moon and measure its shape with a super-long measuring tape, you'd find that it's slightly flattened at the poles and bulging at the equator. This is because the Moon has a slightly irregular shape due to the way it was formed about 4.5 billion years ago.\n",
      "2. **The Moon has no atmosphere**: Unlike Earth, which has a thick layer of gases surrounding it, the Moon has almost no air. In fact, if you were to inhale on the Moon, you'd get more or less nothing! This is because the Moon's gravity is too weak to hold onto an atmosphere. It's like trying to breathe in a vacuum cleaner.\n",
      "3. **The Moon is moving away from us**: Yes, you read that right! The Moon is slowly drifting away from Earth at a rate of about 3.8 centimeters (1.5 inches) per year. This might not seem like much, but it's been happening for millions and millions of years. Don't worry; we're still connected by gravity, so the Moon will stay in orbit around us for billions more years to come.\n",
      "\n",
      "I hope these facts have piqued your interest in our lunar companion! Do you have any questions or would you like me to elaborate on any of these points?\n"
     ]
    }
   ],
   "source": [
    "question = HumanMessage(\"tell me 3 interesting facts about the moon\")\n",
    "system = SystemMessage(\"You are a PhD Scholar in astro physics and your audience are aslo PHD experts. Answer the question in a way that a 5th grader can understand.\")\n",
    "\n",
    "messages = [system, question]\n",
    "\n",
    "response = llm.invoke(messages)\n",
    "print(f\"Question: {question.content}\")\n",
    "print(f\"Response: {response.content}\")"
   ]
  },
  {
   "cell_type": "code",
   "execution_count": 10,
   "id": "b4752e1c",
   "metadata": {},
   "outputs": [],
   "source": [
    "from langchain_core.prompts import (\n",
    "                                        SystemMessagePromptTemplate,\n",
    "                                        HumanMessagePromptTemplate,\n",
    "                                        PromptTemplate,\n",
    "                                        ChatPromptTemplate\n",
    "                                        )\n",
    "\n",
    "system = SystemMessagePromptTemplate.from_template('You are {school} teacher. You answer in short sentences.')\n",
    "\n",
    "question = HumanMessagePromptTemplate.from_template('tell me about the {topics} in {points} points')"
   ]
  },
  {
   "cell_type": "code",
   "execution_count": 6,
   "id": "6be2bec9",
   "metadata": {},
   "outputs": [
    {
     "name": "stdout",
     "output_type": "stream",
     "text": [
      "prompt=PromptTemplate(input_variables=['school'], input_types={}, partial_variables={}, template='You are {school} teacher. You answer in short sentences.') additional_kwargs={}\n",
      "prompt=PromptTemplate(input_variables=['points', 'topics'], input_types={}, partial_variables={}, template='tell me about the {topics} in {points} points') additional_kwargs={}\n"
     ]
    }
   ],
   "source": [
    "print(system)\n",
    "print(question)"
   ]
  },
  {
   "cell_type": "code",
   "execution_count": 7,
   "id": "140e12b3",
   "metadata": {},
   "outputs": [
    {
     "data": {
      "text/plain": [
       "HumanMessage(content='tell me about the sun in 5 points', additional_kwargs={}, response_metadata={})"
      ]
     },
     "execution_count": 7,
     "metadata": {},
     "output_type": "execute_result"
    }
   ],
   "source": [
    "question.format(topics='sun', points=5)\n"
   ]
  },
  {
   "cell_type": "code",
   "execution_count": 8,
   "id": "56c3bf6e",
   "metadata": {},
   "outputs": [
    {
     "data": {
      "text/plain": [
       "SystemMessage(content='You are elemetary teacher. You answer in short sentences.', additional_kwargs={}, response_metadata={})"
      ]
     },
     "execution_count": 8,
     "metadata": {},
     "output_type": "execute_result"
    }
   ],
   "source": [
    "system.format(school='elemetary')"
   ]
  },
  {
   "cell_type": "code",
   "execution_count": 11,
   "id": "db6ec527",
   "metadata": {},
   "outputs": [
    {
     "name": "stdout",
     "output_type": "stream",
     "text": [
      "input_variables=['points', 'school', 'topics'] input_types={} partial_variables={} messages=[SystemMessagePromptTemplate(prompt=PromptTemplate(input_variables=['school'], input_types={}, partial_variables={}, template='You are {school} teacher. You answer in short sentences.'), additional_kwargs={}), HumanMessagePromptTemplate(prompt=PromptTemplate(input_variables=['points', 'topics'], input_types={}, partial_variables={}, template='tell me about the {topics} in {points} points'), additional_kwargs={})]\n"
     ]
    }
   ],
   "source": [
    "messages = [system,question]\n",
    "template = ChatPromptTemplate(messages)\n",
    "print(template)"
   ]
  },
  {
   "cell_type": "code",
   "execution_count": 12,
   "id": "7fb14533",
   "metadata": {},
   "outputs": [
    {
     "name": "stdout",
     "output_type": "stream",
     "text": [
      "Response: Here are 5 things about the sun:\n",
      "\n",
      "1. The sun is a big ball of hot, glowing gas.\n",
      "2. It's the star at the center of our solar system.\n",
      "3. The sun gives us light and warmth to live on Earth.\n",
      "4. It takes the sun 24 days to complete one rotation on its side.\n",
      "5. We see half of the sun's face from Earth because it rotates!\n"
     ]
    }
   ],
   "source": [
    "question = template.invoke({'school': 'elementary', 'topics': 'sun', 'points': 5})\n",
    "response = llm.invoke(question)\n",
    "print(f\"Response: {response.content}\")"
   ]
  }
 ],
 "metadata": {
  "kernelspec": {
   "display_name": ".venv",
   "language": "python",
   "name": "python3"
  },
  "language_info": {
   "codemirror_mode": {
    "name": "ipython",
    "version": 3
   },
   "file_extension": ".py",
   "mimetype": "text/x-python",
   "name": "python",
   "nbconvert_exporter": "python",
   "pygments_lexer": "ipython3",
   "version": "3.13.2"
  }
 },
 "nbformat": 4,
 "nbformat_minor": 5
}
